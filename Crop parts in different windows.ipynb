{
 "cells": [
  {
   "cell_type": "code",
   "execution_count": 1,
   "id": "f61d9528",
   "metadata": {},
   "outputs": [],
   "source": [
    "import cv2"
   ]
  },
  {
   "cell_type": "code",
   "execution_count": 2,
   "id": "e4f2b608",
   "metadata": {},
   "outputs": [],
   "source": [
    "cap = cv2.VideoCapture(0)"
   ]
  },
  {
   "cell_type": "code",
   "execution_count": 3,
   "id": "73d2e772",
   "metadata": {},
   "outputs": [],
   "source": [
    "model = cv2.CascadeClassifier('haarcascade_frontalface_default.xml')"
   ]
  },
  {
   "cell_type": "code",
   "execution_count": 4,
   "id": "d4e18a13",
   "metadata": {},
   "outputs": [],
   "source": [
    "#ret, photo = cap.read()"
   ]
  },
  {
   "cell_type": "code",
   "execution_count": 5,
   "id": "421918c1",
   "metadata": {},
   "outputs": [],
   "source": [
    "#photo"
   ]
  },
  {
   "cell_type": "code",
   "execution_count": 6,
   "id": "e98628b2",
   "metadata": {},
   "outputs": [],
   "source": [
    "while True:\n",
    "    ret, video = cap.read()\n",
    "    face = model.detectMultiScale(video)\n",
    "    if (len==0):\n",
    "        print(\"No Face Found\")\n",
    "    else:\n",
    "        x = face[0][0]\n",
    "        y = face[0][1]\n",
    "        x1 = x+face[0][2]\n",
    "        y1 = y+face[0][3]\n",
    "        video_f = cv2.rectangle(video, (x,y), (x1,y1), [0,255,0], 3)\n",
    "        cv2.imshow(\"Original\", video_f)\n",
    "        cropVideo = video[y:y+y1, x:x+x1]\n",
    "        \n",
    "        cv2.imshow(\"Cropped Video\", cropVideo)\n",
    "        if(cv2.waitKey(100)==13):\n",
    "            break\n",
    "cv2.destroyAllWindows()"
   ]
  },
  {
   "cell_type": "code",
   "execution_count": 7,
   "id": "56a79723",
   "metadata": {},
   "outputs": [],
   "source": [
    "cap.release()"
   ]
  },
  {
   "cell_type": "code",
   "execution_count": null,
   "id": "47e63ce3",
   "metadata": {},
   "outputs": [],
   "source": []
  }
 ],
 "metadata": {
  "kernelspec": {
   "display_name": "Python 3",
   "language": "python",
   "name": "python3"
  },
  "language_info": {
   "codemirror_mode": {
    "name": "ipython",
    "version": 3
   },
   "file_extension": ".py",
   "mimetype": "text/x-python",
   "name": "python",
   "nbconvert_exporter": "python",
   "pygments_lexer": "ipython3",
   "version": "3.8.8"
  }
 },
 "nbformat": 4,
 "nbformat_minor": 5
}
